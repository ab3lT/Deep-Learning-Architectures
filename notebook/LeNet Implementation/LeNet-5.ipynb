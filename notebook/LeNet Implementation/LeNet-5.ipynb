{
 "cells": [
  {
   "cell_type": "code",
   "execution_count": 2,
   "id": "d35af2e2",
   "metadata": {},
   "outputs": [
    {
     "ename": "ModuleNotFoundError",
     "evalue": "No module named 'matplotlib'",
     "output_type": "error",
     "traceback": [
      "\u001b[31m---------------------------------------------------------------------------\u001b[39m",
      "\u001b[31mModuleNotFoundError\u001b[39m                       Traceback (most recent call last)",
      "\u001b[36mCell\u001b[39m\u001b[36m \u001b[39m\u001b[32mIn[2]\u001b[39m\u001b[32m, line 7\u001b[39m\n\u001b[32m      5\u001b[39m \u001b[38;5;28;01mfrom\u001b[39;00m\u001b[38;5;250m \u001b[39m\u001b[34;01mtensorflow\u001b[39;00m\u001b[34;01m.\u001b[39;00m\u001b[34;01mkeras\u001b[39;00m\u001b[34;01m.\u001b[39;00m\u001b[34;01mutils\u001b[39;00m\u001b[38;5;250m \u001b[39m\u001b[38;5;28;01mimport\u001b[39;00m to_categorical\n\u001b[32m      6\u001b[39m \u001b[38;5;28;01mimport\u001b[39;00m\u001b[38;5;250m \u001b[39m\u001b[34;01mnumpy\u001b[39;00m\u001b[38;5;250m \u001b[39m\u001b[38;5;28;01mas\u001b[39;00m\u001b[38;5;250m \u001b[39m\u001b[34;01mnp\u001b[39;00m\n\u001b[32m----> \u001b[39m\u001b[32m7\u001b[39m \u001b[38;5;28;01mimport\u001b[39;00m\u001b[38;5;250m \u001b[39m\u001b[34;01mmatplotlib\u001b[39;00m\u001b[34;01m.\u001b[39;00m\u001b[34;01mpyplot\u001b[39;00m\u001b[38;5;250m \u001b[39m\u001b[38;5;28;01mas\u001b[39;00m\u001b[38;5;250m \u001b[39m\u001b[34;01mplt\u001b[39;00m\n",
      "\u001b[31mModuleNotFoundError\u001b[39m: No module named 'matplotlib'"
     ]
    }
   ],
   "source": [
    "import numpy as np\n",
    "import tensorflow as tf\n",
    "from tensorflow.keras import layers, models\n",
    "from tensorflow.keras.datasets import mnist\n",
    "from tensorflow.keras.utils import to_categorical\n",
    "import numpy as np\n",
    "import matplotlib.pyplot as plt"
   ]
  },
  {
   "cell_type": "code",
   "execution_count": null,
   "id": "d21a05f7",
   "metadata": {},
   "outputs": [],
   "source": [
    "(x_train, y_train), (x_test, y_test) = mnist.load_data()\n",
    "\n",
    "# Pad images from 28x28 to 32x32 (LeNet-5 expects 32x32)\n",
    "x_train = np.pad(x_train, ((0, 0), (2, 2), (2, 2)), 'constant')\n",
    "x_test = np.pad(x_test, ((0, 0), (2, 2), (2, 2)), 'constant')\n",
    "\n",
    "# Normalize pixel values\n",
    "x_train = x_train.astype('float32') / 255.\n",
    "x_test = x_test.astype('float32') / 255.\n",
    "\n",
    "# Reshape to add channel dimension\n",
    "x_train = x_train.reshape(-1, 32, 32, 1)\n",
    "x_test = x_test.reshape(-1, 32, 32, 1)\n",
    "\n",
    "# One-hot encode labels\n",
    "y_train = to_categorical(y_train, 10)\n",
    "y_test = to_categorical(y_test, 10)\n",
    "\n",
    "print(f\"Training shape: {x_train.shape}, Test shape: {x_test.shape}\")"
   ]
  },
  {
   "cell_type": "code",
   "execution_count": null,
   "id": "601ee072",
   "metadata": {},
   "outputs": [],
   "source": [
    "def build_lenet5(input_shape=(32, 32, 1), num_classes=10):\n",
    "    model = models.Sequential(name='LeNet-5_Custom')\n",
    "\n",
    "    # C1: Convolutional layer (6 filters, 5x5 kernel)\n",
    "    model.add(layers.Conv2D(filters=6, kernel_size=(5, 5), activation='tanh', input_shape=input_shape))\n",
    "    model.add(layers.AveragePooling2D(pool_size=(2, 2)))\n",
    "\n",
    "    # C2: Convolutional layer (16 filters, 5x5 kernel)\n",
    "    model.add(layers.Conv2D(filters=16, kernel_size=(5, 5), activation='tanh'))\n",
    "    model.add(layers.AveragePooling2D(pool_size=(2, 2)))\n",
    "\n",
    "    # C3: Convolutional layer (120 filters, 5x5 kernel)\n",
    "    model.add(layers.Conv2D(filters=120, kernel_size=(5, 5), activation='tanh'))\n",
    "\n",
    "    # Flatten before Fully Connected Layers\n",
    "    model.add(layers.Flatten())\n",
    "\n",
    "    # F4: Fully connected layer (84 units)\n",
    "    model.add(layers.Dense(units=84, activation='tanh'))\n",
    "\n",
    "    # F5: Output layer (10 classes)\n",
    "    model.add(layers.Dense(units=num_classes, activation='softmax'))\n",
    "\n",
    "    return model\n",
    "\n",
    "# Instantiate model\n",
    "model = build_lenet5()\n",
    "model.summary()"
   ]
  },
  {
   "cell_type": "code",
   "execution_count": null,
   "id": "108e763a",
   "metadata": {},
   "outputs": [],
   "source": [
    "model.compile(\n",
    "    optimizer=tf.keras.optimizers.Adam(learning_rate=0.001),\n",
    "    loss='categorical_crossentropy',\n",
    "    metrics=['accuracy']\n",
    ")"
   ]
  },
  {
   "cell_type": "code",
   "execution_count": null,
   "id": "703d829d",
   "metadata": {},
   "outputs": [],
   "source": [
    "history = model.fit(\n",
    "    x_train, y_train,\n",
    "    batch_size=128,\n",
    "    epochs=10,\n",
    "    validation_split=0.2,\n",
    "    verbose=2\n",
    ")"
   ]
  },
  {
   "cell_type": "code",
   "execution_count": null,
   "id": "62f7820d",
   "metadata": {},
   "outputs": [],
   "source": [
    "test_loss, test_acc = model.evaluate(x_test, y_test)\n",
    "print(f\"Test accuracy: {test_acc:.4f}\")\n"
   ]
  },
  {
   "cell_type": "code",
   "execution_count": null,
   "id": "eb838f69",
   "metadata": {},
   "outputs": [],
   "source": [
    "plt.figure(figsize=(14, 5))\n",
    "\n",
    "# Accuracy\n",
    "plt.subplot(1, 2, 1)\n",
    "plt.plot(history.history['accuracy'], label='Train Acc')\n",
    "plt.plot(history.history['val_accuracy'], label='Val Acc')\n",
    "plt.title('Accuracy over Epochs')\n",
    "plt.xlabel('Epoch')\n",
    "plt.ylabel('Accuracy')\n",
    "plt.legend()\n",
    "\n",
    "# Loss\n",
    "plt.subplot(1, 2, 2)\n",
    "plt.plot(history.history['loss'], label='Train Loss')\n",
    "plt.plot(history.history['val_loss'], label='Val Loss')\n",
    "plt.title('Loss over Epochs')\n",
    "plt.xlabel('Epoch')\n",
    "plt.ylabel('Loss')\n",
    "plt.legend()\n",
    "\n",
    "plt.show()"
   ]
  },
  {
   "cell_type": "code",
   "execution_count": null,
   "id": "09a5f437",
   "metadata": {},
   "outputs": [],
   "source": [
    "def plot_predictions(model, x_data, y_true, n=10):\n",
    "    preds = model.predict(x_data[:n])\n",
    "    pred_classes = np.argmax(preds, axis=1)\n",
    "    true_classes = np.argmax(y_true[:n], axis=1)\n",
    "\n",
    "    plt.figure(figsize=(15, 3))\n",
    "    for i in range(n):\n",
    "        plt.subplot(1, n, i+1)\n",
    "        plt.imshow(x_data[i].reshape(32, 32), cmap='gray')\n",
    "        plt.title(f\"T: {true_classes[i]}, P: {pred_classes[i]}\")\n",
    "        plt.axis('off')\n",
    "    plt.show()\n",
    "\n",
    "plot_predictions(model, x_test, y_test)\n"
   ]
  }
 ],
 "metadata": {
  "kernelspec": {
   "display_name": ".venv",
   "language": "python",
   "name": "python3"
  },
  "language_info": {
   "codemirror_mode": {
    "name": "ipython",
    "version": 3
   },
   "file_extension": ".py",
   "mimetype": "text/x-python",
   "name": "python",
   "nbconvert_exporter": "python",
   "pygments_lexer": "ipython3",
   "version": "3.11.1"
  }
 },
 "nbformat": 4,
 "nbformat_minor": 5
}
